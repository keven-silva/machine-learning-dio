{
  "nbformat": 4,
  "nbformat_minor": 0,
  "metadata": {
    "colab": {
      "provenance": [],
      "authorship_tag": "ABX9TyMLeBaSlw9GLb7foTDau2gv",
      "include_colab_link": true
    },
    "kernelspec": {
      "name": "python3",
      "display_name": "Python 3"
    },
    "language_info": {
      "name": "python"
    },
    "gpuClass": "standard"
  },
  "cells": [
    {
      "cell_type": "markdown",
      "metadata": {
        "id": "view-in-github",
        "colab_type": "text"
      },
      "source": [
        "<a href=\"https://colab.research.google.com/github/keven-silva/machine-learning-dio/blob/master/virtual_assistant.ipynb\" target=\"_parent\"><img src=\"https://colab.research.google.com/assets/colab-badge.svg\" alt=\"Open In Colab\"/></a>"
      ]
    },
    {
      "cell_type": "code",
      "source": [
        "!pip install gtts"
      ],
      "metadata": {
        "colab": {
          "base_uri": "https://localhost:8080/"
        },
        "id": "K5ycff-vAWod",
        "outputId": "45bef042-9c6c-4795-edcb-3c4ccbd1b46d"
      },
      "execution_count": 1,
      "outputs": [
        {
          "output_type": "stream",
          "name": "stdout",
          "text": [
            "Looking in indexes: https://pypi.org/simple, https://us-python.pkg.dev/colab-wheels/public/simple/\n",
            "Collecting gtts\n",
            "  Downloading gTTS-2.3.0-py3-none-any.whl (26 kB)\n",
            "Collecting click~=8.1.3\n",
            "  Downloading click-8.1.3-py3-none-any.whl (96 kB)\n",
            "\u001b[2K     \u001b[90m━━━━━━━━━━━━━━━━━━━━━━━━━━━━━━━━━━━━━━━━\u001b[0m \u001b[32m96.6/96.6 KB\u001b[0m \u001b[31m6.1 MB/s\u001b[0m eta \u001b[36m0:00:00\u001b[0m\n",
            "\u001b[?25hCollecting requests~=2.28.0\n",
            "  Downloading requests-2.28.1-py3-none-any.whl (62 kB)\n",
            "\u001b[2K     \u001b[90m━━━━━━━━━━━━━━━━━━━━━━━━━━━━━━━━━━━━━━━━\u001b[0m \u001b[32m62.8/62.8 KB\u001b[0m \u001b[31m7.0 MB/s\u001b[0m eta \u001b[36m0:00:00\u001b[0m\n",
            "\u001b[?25hCollecting six~=1.16.0\n",
            "  Downloading six-1.16.0-py2.py3-none-any.whl (11 kB)\n",
            "Requirement already satisfied: charset-normalizer<3,>=2 in /usr/local/lib/python3.8/dist-packages (from requests~=2.28.0->gtts) (2.1.1)\n",
            "Requirement already satisfied: urllib3<1.27,>=1.21.1 in /usr/local/lib/python3.8/dist-packages (from requests~=2.28.0->gtts) (1.24.3)\n",
            "Requirement already satisfied: certifi>=2017.4.17 in /usr/local/lib/python3.8/dist-packages (from requests~=2.28.0->gtts) (2022.12.7)\n",
            "Requirement already satisfied: idna<4,>=2.5 in /usr/local/lib/python3.8/dist-packages (from requests~=2.28.0->gtts) (2.10)\n",
            "Installing collected packages: six, requests, click, gtts\n",
            "  Attempting uninstall: six\n",
            "    Found existing installation: six 1.15.0\n",
            "    Uninstalling six-1.15.0:\n",
            "      Successfully uninstalled six-1.15.0\n",
            "  Attempting uninstall: requests\n",
            "    Found existing installation: requests 2.25.1\n",
            "    Uninstalling requests-2.25.1:\n",
            "      Successfully uninstalled requests-2.25.1\n",
            "  Attempting uninstall: click\n",
            "    Found existing installation: click 7.1.2\n",
            "    Uninstalling click-7.1.2:\n",
            "      Successfully uninstalled click-7.1.2\n",
            "\u001b[31mERROR: pip's dependency resolver does not currently take into account all the packages that are installed. This behaviour is the source of the following dependency conflicts.\n",
            "ipython 7.9.0 requires jedi>=0.10, which is not installed.\n",
            "flask 1.1.4 requires click<8.0,>=5.1, but you have click 8.1.3 which is incompatible.\u001b[0m\u001b[31m\n",
            "\u001b[0mSuccessfully installed click-8.1.3 gtts-2.3.0 requests-2.28.1 six-1.16.0\n"
          ]
        }
      ]
    },
    {
      "cell_type": "code",
      "execution_count": 2,
      "metadata": {
        "id": "bKVNHIQ__1wX"
      },
      "outputs": [],
      "source": [
        "from gtts import gTTS"
      ]
    },
    {
      "cell_type": "code",
      "source": [
        "text_to_say = \"ola, chupa minha rola\"\n",
        "\n",
        "french_text = \"\"\n",
        "language = \"pt\"\n",
        "\n",
        "gtts_object = gTTS(text = text_to_say, \n",
        "                  lang = language,\n",
        "                  slow = False)\n",
        "\n",
        "gtts_object.save(\"/content/audio.mp3\")\n",
        "\n",
        "from IPython.display import Audio\n",
        "\n",
        "# Audio(\"/content/gtts.wav\")\n",
        "\n",
        "\n",
        "Audio(\"/content/audio.mp3\")"
      ],
      "metadata": {
        "colab": {
          "base_uri": "https://localhost:8080/",
          "height": 75
        },
        "id": "waboV5S9AeKE",
        "outputId": "2fd61df4-4207-42bd-d21e-bc429905d113"
      },
      "execution_count": 16,
      "outputs": [
        {
          "output_type": "execute_result",
          "data": {
            "text/plain": [
              "<IPython.lib.display.Audio object>"
            ],
            "text/html": [
              "\n",
              "                <audio  controls=\"controls\" >\n",
              "                    <source src=\"data:audio/mpeg;base64,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\" type=\"audio/mpeg\" />\n",
              "                    Your browser does not support the audio element.\n",
              "                </audio>\n",
              "              "
            ]
          },
          "metadata": {},
          "execution_count": 16
        }
      ]
    },
    {
      "cell_type": "markdown",
      "source": [
        "## Segundo teste"
      ],
      "metadata": {
        "id": "hs-7Zp01BAzx"
      }
    },
    {
      "cell_type": "code",
      "source": [
        "!sudo apt install portaudio19-dev"
      ],
      "metadata": {
        "id": "Xu__7-OGC6Jk",
        "colab": {
          "base_uri": "https://localhost:8080/"
        },
        "outputId": "8ac5ef43-fa92-4d18-8bfa-77bf95cb327d"
      },
      "execution_count": 7,
      "outputs": [
        {
          "output_type": "stream",
          "name": "stdout",
          "text": [
            "Reading package lists... Done\n",
            "Building dependency tree       \n",
            "Reading state information... Done\n",
            "The following package was automatically installed and is no longer required:\n",
            "  libnvidia-common-460\n",
            "Use 'sudo apt autoremove' to remove it.\n",
            "The following additional packages will be installed:\n",
            "  libportaudio2 libportaudiocpp0\n",
            "Suggested packages:\n",
            "  portaudio19-doc\n",
            "The following NEW packages will be installed:\n",
            "  libportaudio2 libportaudiocpp0 portaudio19-dev\n",
            "0 upgraded, 3 newly installed, 0 to remove and 21 not upgraded.\n",
            "Need to get 184 kB of archives.\n",
            "After this operation, 891 kB of additional disk space will be used.\n",
            "Get:1 http://archive.ubuntu.com/ubuntu bionic/universe amd64 libportaudio2 amd64 19.6.0-1 [64.6 kB]\n",
            "Get:2 http://archive.ubuntu.com/ubuntu bionic/universe amd64 libportaudiocpp0 amd64 19.6.0-1 [15.1 kB]\n",
            "Get:3 http://archive.ubuntu.com/ubuntu bionic/universe amd64 portaudio19-dev amd64 19.6.0-1 [104 kB]\n",
            "Fetched 184 kB in 0s (766 kB/s)\n",
            "debconf: unable to initialize frontend: Dialog\n",
            "debconf: (No usable dialog-like program is installed, so the dialog based frontend cannot be used. at /usr/share/perl5/Debconf/FrontEnd/Dialog.pm line 76, <> line 3.)\n",
            "debconf: falling back to frontend: Readline\n",
            "debconf: unable to initialize frontend: Readline\n",
            "debconf: (This frontend requires a controlling tty.)\n",
            "debconf: falling back to frontend: Teletype\n",
            "dpkg-preconfigure: unable to re-open stdin: \n",
            "Selecting previously unselected package libportaudio2:amd64.\n",
            "(Reading database ... 124016 files and directories currently installed.)\n",
            "Preparing to unpack .../libportaudio2_19.6.0-1_amd64.deb ...\n",
            "Unpacking libportaudio2:amd64 (19.6.0-1) ...\n",
            "Selecting previously unselected package libportaudiocpp0:amd64.\n",
            "Preparing to unpack .../libportaudiocpp0_19.6.0-1_amd64.deb ...\n",
            "Unpacking libportaudiocpp0:amd64 (19.6.0-1) ...\n",
            "Selecting previously unselected package portaudio19-dev:amd64.\n",
            "Preparing to unpack .../portaudio19-dev_19.6.0-1_amd64.deb ...\n",
            "Unpacking portaudio19-dev:amd64 (19.6.0-1) ...\n",
            "Setting up libportaudio2:amd64 (19.6.0-1) ...\n",
            "Setting up libportaudiocpp0:amd64 (19.6.0-1) ...\n",
            "Setting up portaudio19-dev:amd64 (19.6.0-1) ...\n",
            "Processing triggers for libc-bin (2.27-3ubuntu1.6) ...\n"
          ]
        }
      ]
    },
    {
      "cell_type": "code",
      "source": [
        "!pip install SpeechRecognition pyjokes pygame wikipedia winshell playsound PyAudio"
      ],
      "metadata": {
        "id": "RTD2v-xvBIyX",
        "colab": {
          "base_uri": "https://localhost:8080/"
        },
        "outputId": "6c1b9035-a7d6-4b3c-b576-90ee0a0e8118"
      },
      "execution_count": 8,
      "outputs": [
        {
          "output_type": "stream",
          "name": "stdout",
          "text": [
            "Looking in indexes: https://pypi.org/simple, https://us-python.pkg.dev/colab-wheels/public/simple/\n",
            "Collecting SpeechRecognition\n",
            "  Using cached SpeechRecognition-3.9.0-py2.py3-none-any.whl (32.8 MB)\n",
            "Collecting pyjokes\n",
            "  Using cached pyjokes-0.6.0-py2.py3-none-any.whl (26 kB)\n",
            "Collecting pygame\n",
            "  Using cached pygame-2.1.2-cp38-cp38-manylinux_2_17_x86_64.manylinux2014_x86_64.whl (21.8 MB)\n",
            "Collecting wikipedia\n",
            "  Using cached wikipedia-1.4.0-py3-none-any.whl\n",
            "Collecting winshell\n",
            "  Using cached winshell-0.6-py3-none-any.whl\n",
            "Collecting playsound\n",
            "  Using cached playsound-1.3.0-py3-none-any.whl\n",
            "Collecting PyAudio\n",
            "  Using cached PyAudio-0.2.13.tar.gz (46 kB)\n",
            "  Installing build dependencies ... \u001b[?25l\u001b[?25hdone\n",
            "  Getting requirements to build wheel ... \u001b[?25l\u001b[?25hdone\n",
            "  Preparing metadata (pyproject.toml) ... \u001b[?25l\u001b[?25hdone\n",
            "Requirement already satisfied: requests>=2.26.0 in /usr/local/lib/python3.8/dist-packages (from SpeechRecognition) (2.28.1)\n",
            "Requirement already satisfied: beautifulsoup4 in /usr/local/lib/python3.8/dist-packages (from wikipedia) (4.6.3)\n",
            "Requirement already satisfied: certifi>=2017.4.17 in /usr/local/lib/python3.8/dist-packages (from requests>=2.26.0->SpeechRecognition) (2022.12.7)\n",
            "Requirement already satisfied: urllib3<1.27,>=1.21.1 in /usr/local/lib/python3.8/dist-packages (from requests>=2.26.0->SpeechRecognition) (1.24.3)\n",
            "Requirement already satisfied: idna<4,>=2.5 in /usr/local/lib/python3.8/dist-packages (from requests>=2.26.0->SpeechRecognition) (2.10)\n",
            "Requirement already satisfied: charset-normalizer<3,>=2 in /usr/local/lib/python3.8/dist-packages (from requests>=2.26.0->SpeechRecognition) (2.1.1)\n",
            "Building wheels for collected packages: PyAudio\n",
            "  Building wheel for PyAudio (pyproject.toml) ... \u001b[?25l\u001b[?25hdone\n",
            "  Created wheel for PyAudio: filename=PyAudio-0.2.13-cp38-cp38-linux_x86_64.whl size=63227 sha256=286e22c8cffbb553e8027870797bf2632e1b6c3514fc7875a2f47e4f7a3c2758\n",
            "  Stored in directory: /root/.cache/pip/wheels/c9/64/0b/9a483698792349f565ecc45c5ee3f1efb2ce79464f6d9daf53\n",
            "Successfully built PyAudio\n",
            "Installing collected packages: winshell, pyjokes, PyAudio, playsound, pygame, wikipedia, SpeechRecognition\n",
            "Successfully installed PyAudio-0.2.13 SpeechRecognition-3.9.0 playsound-1.3.0 pygame-2.1.2 pyjokes-0.6.0 wikipedia-1.4.0 winshell-0.6\n"
          ]
        }
      ]
    },
    {
      "cell_type": "code",
      "source": [
        "#import section\n",
        "import speech_recognition as sr\n",
        "import os\n",
        "from datetime import datetime\n",
        "import playsound\n",
        "import pyjokes\n",
        "import wikipedia\n",
        "import pyaudio\n",
        "import webbrowser\n",
        "# import winshell\n",
        "from pygame import mixer"
      ],
      "metadata": {
        "id": "0iWDey47DkU-",
        "colab": {
          "base_uri": "https://localhost:8080/"
        },
        "outputId": "b37990be-3e0a-4e9a-fda0-d9d6c9d2d16b"
      },
      "execution_count": 10,
      "outputs": [
        {
          "output_type": "stream",
          "name": "stdout",
          "text": [
            "pygame 2.1.2 (SDL 2.0.16, Python 3.8.16)\n",
            "Hello from the pygame community. https://www.pygame.org/contribute.html\n"
          ]
        }
      ]
    },
    {
      "cell_type": "code",
      "source": [
        "r = sr.Recognizer()"
      ],
      "metadata": {
        "id": "GgzxlQ8XPj1T"
      },
      "execution_count": 11,
      "outputs": []
    },
    {
      "cell_type": "code",
      "source": [
        "teste = sr.AudioFile('/content/audio.mp3')\n",
        "with teste as source:\n",
        "  audio = r.record(source)"
      ],
      "metadata": {
        "colab": {
          "base_uri": "https://localhost:8080/",
          "height": 606
        },
        "id": "7Oqn2LWBP5FV",
        "outputId": "ddae77d2-dba7-4308-8e1a-348ede1d0c4b"
      },
      "execution_count": 12,
      "outputs": [
        {
          "output_type": "error",
          "ename": "ValueError",
          "evalue": "ignored",
          "traceback": [
            "\u001b[0;31m---------------------------------------------------------------------------\u001b[0m",
            "\u001b[0;31mError\u001b[0m                                     Traceback (most recent call last)",
            "\u001b[0;32m/usr/local/lib/python3.8/dist-packages/speech_recognition/__init__.py\u001b[0m in \u001b[0;36m__enter__\u001b[0;34m(self)\u001b[0m\n\u001b[1;32m    252\u001b[0m             \u001b[0;31m# attempt to read the file as WAV\u001b[0m\u001b[0;34m\u001b[0m\u001b[0;34m\u001b[0m\u001b[0;34m\u001b[0m\u001b[0m\n\u001b[0;32m--> 253\u001b[0;31m             \u001b[0mself\u001b[0m\u001b[0;34m.\u001b[0m\u001b[0maudio_reader\u001b[0m \u001b[0;34m=\u001b[0m \u001b[0mwave\u001b[0m\u001b[0;34m.\u001b[0m\u001b[0mopen\u001b[0m\u001b[0;34m(\u001b[0m\u001b[0mself\u001b[0m\u001b[0;34m.\u001b[0m\u001b[0mfilename_or_fileobject\u001b[0m\u001b[0;34m,\u001b[0m \u001b[0;34m\"rb\"\u001b[0m\u001b[0;34m)\u001b[0m\u001b[0;34m\u001b[0m\u001b[0;34m\u001b[0m\u001b[0m\n\u001b[0m\u001b[1;32m    254\u001b[0m             \u001b[0mself\u001b[0m\u001b[0;34m.\u001b[0m\u001b[0mlittle_endian\u001b[0m \u001b[0;34m=\u001b[0m \u001b[0;32mTrue\u001b[0m  \u001b[0;31m# RIFF WAV is a little-endian format (most ``audioop`` operations assume that the frames are stored in little-endian form)\u001b[0m\u001b[0;34m\u001b[0m\u001b[0;34m\u001b[0m\u001b[0m\n",
            "\u001b[0;32m/usr/lib/python3.8/wave.py\u001b[0m in \u001b[0;36mopen\u001b[0;34m(f, mode)\u001b[0m\n\u001b[1;32m    509\u001b[0m     \u001b[0;32mif\u001b[0m \u001b[0mmode\u001b[0m \u001b[0;32min\u001b[0m \u001b[0;34m(\u001b[0m\u001b[0;34m'r'\u001b[0m\u001b[0;34m,\u001b[0m \u001b[0;34m'rb'\u001b[0m\u001b[0;34m)\u001b[0m\u001b[0;34m:\u001b[0m\u001b[0;34m\u001b[0m\u001b[0;34m\u001b[0m\u001b[0m\n\u001b[0;32m--> 510\u001b[0;31m         \u001b[0;32mreturn\u001b[0m \u001b[0mWave_read\u001b[0m\u001b[0;34m(\u001b[0m\u001b[0mf\u001b[0m\u001b[0;34m)\u001b[0m\u001b[0;34m\u001b[0m\u001b[0;34m\u001b[0m\u001b[0m\n\u001b[0m\u001b[1;32m    511\u001b[0m     \u001b[0;32melif\u001b[0m \u001b[0mmode\u001b[0m \u001b[0;32min\u001b[0m \u001b[0;34m(\u001b[0m\u001b[0;34m'w'\u001b[0m\u001b[0;34m,\u001b[0m \u001b[0;34m'wb'\u001b[0m\u001b[0;34m)\u001b[0m\u001b[0;34m:\u001b[0m\u001b[0;34m\u001b[0m\u001b[0;34m\u001b[0m\u001b[0m\n",
            "\u001b[0;32m/usr/lib/python3.8/wave.py\u001b[0m in \u001b[0;36m__init__\u001b[0;34m(self, f)\u001b[0m\n\u001b[1;32m    163\u001b[0m         \u001b[0;32mtry\u001b[0m\u001b[0;34m:\u001b[0m\u001b[0;34m\u001b[0m\u001b[0;34m\u001b[0m\u001b[0m\n\u001b[0;32m--> 164\u001b[0;31m             \u001b[0mself\u001b[0m\u001b[0;34m.\u001b[0m\u001b[0minitfp\u001b[0m\u001b[0;34m(\u001b[0m\u001b[0mf\u001b[0m\u001b[0;34m)\u001b[0m\u001b[0;34m\u001b[0m\u001b[0;34m\u001b[0m\u001b[0m\n\u001b[0m\u001b[1;32m    165\u001b[0m         \u001b[0;32mexcept\u001b[0m\u001b[0;34m:\u001b[0m\u001b[0;34m\u001b[0m\u001b[0;34m\u001b[0m\u001b[0m\n",
            "\u001b[0;32m/usr/lib/python3.8/wave.py\u001b[0m in \u001b[0;36minitfp\u001b[0;34m(self, file)\u001b[0m\n\u001b[1;32m    130\u001b[0m         \u001b[0;32mif\u001b[0m \u001b[0mself\u001b[0m\u001b[0;34m.\u001b[0m\u001b[0m_file\u001b[0m\u001b[0;34m.\u001b[0m\u001b[0mgetname\u001b[0m\u001b[0;34m(\u001b[0m\u001b[0;34m)\u001b[0m \u001b[0;34m!=\u001b[0m \u001b[0;34mb'RIFF'\u001b[0m\u001b[0;34m:\u001b[0m\u001b[0;34m\u001b[0m\u001b[0;34m\u001b[0m\u001b[0m\n\u001b[0;32m--> 131\u001b[0;31m             \u001b[0;32mraise\u001b[0m \u001b[0mError\u001b[0m\u001b[0;34m(\u001b[0m\u001b[0;34m'file does not start with RIFF id'\u001b[0m\u001b[0;34m)\u001b[0m\u001b[0;34m\u001b[0m\u001b[0;34m\u001b[0m\u001b[0m\n\u001b[0m\u001b[1;32m    132\u001b[0m         \u001b[0;32mif\u001b[0m \u001b[0mself\u001b[0m\u001b[0;34m.\u001b[0m\u001b[0m_file\u001b[0m\u001b[0;34m.\u001b[0m\u001b[0mread\u001b[0m\u001b[0;34m(\u001b[0m\u001b[0;36m4\u001b[0m\u001b[0;34m)\u001b[0m \u001b[0;34m!=\u001b[0m \u001b[0;34mb'WAVE'\u001b[0m\u001b[0;34m:\u001b[0m\u001b[0;34m\u001b[0m\u001b[0;34m\u001b[0m\u001b[0m\n",
            "\u001b[0;31mError\u001b[0m: file does not start with RIFF id",
            "\nDuring handling of the above exception, another exception occurred:\n",
            "\u001b[0;31mError\u001b[0m                                     Traceback (most recent call last)",
            "\u001b[0;32m/usr/local/lib/python3.8/dist-packages/speech_recognition/__init__.py\u001b[0m in \u001b[0;36m__enter__\u001b[0;34m(self)\u001b[0m\n\u001b[1;32m    257\u001b[0m                 \u001b[0;31m# attempt to read the file as AIFF\u001b[0m\u001b[0;34m\u001b[0m\u001b[0;34m\u001b[0m\u001b[0;34m\u001b[0m\u001b[0m\n\u001b[0;32m--> 258\u001b[0;31m                 \u001b[0mself\u001b[0m\u001b[0;34m.\u001b[0m\u001b[0maudio_reader\u001b[0m \u001b[0;34m=\u001b[0m \u001b[0maifc\u001b[0m\u001b[0;34m.\u001b[0m\u001b[0mopen\u001b[0m\u001b[0;34m(\u001b[0m\u001b[0mself\u001b[0m\u001b[0;34m.\u001b[0m\u001b[0mfilename_or_fileobject\u001b[0m\u001b[0;34m,\u001b[0m \u001b[0;34m\"rb\"\u001b[0m\u001b[0;34m)\u001b[0m\u001b[0;34m\u001b[0m\u001b[0;34m\u001b[0m\u001b[0m\n\u001b[0m\u001b[1;32m    259\u001b[0m                 \u001b[0mself\u001b[0m\u001b[0;34m.\u001b[0m\u001b[0mlittle_endian\u001b[0m \u001b[0;34m=\u001b[0m \u001b[0;32mFalse\u001b[0m  \u001b[0;31m# AIFF is a big-endian format\u001b[0m\u001b[0;34m\u001b[0m\u001b[0;34m\u001b[0m\u001b[0m\n",
            "\u001b[0;32m/usr/lib/python3.8/aifc.py\u001b[0m in \u001b[0;36mopen\u001b[0;34m(f, mode)\u001b[0m\n\u001b[1;32m    916\u001b[0m     \u001b[0;32mif\u001b[0m \u001b[0mmode\u001b[0m \u001b[0;32min\u001b[0m \u001b[0;34m(\u001b[0m\u001b[0;34m'r'\u001b[0m\u001b[0;34m,\u001b[0m \u001b[0;34m'rb'\u001b[0m\u001b[0;34m)\u001b[0m\u001b[0;34m:\u001b[0m\u001b[0;34m\u001b[0m\u001b[0;34m\u001b[0m\u001b[0m\n\u001b[0;32m--> 917\u001b[0;31m         \u001b[0;32mreturn\u001b[0m \u001b[0mAifc_read\u001b[0m\u001b[0;34m(\u001b[0m\u001b[0mf\u001b[0m\u001b[0;34m)\u001b[0m\u001b[0;34m\u001b[0m\u001b[0;34m\u001b[0m\u001b[0m\n\u001b[0m\u001b[1;32m    918\u001b[0m     \u001b[0;32melif\u001b[0m \u001b[0mmode\u001b[0m \u001b[0;32min\u001b[0m \u001b[0;34m(\u001b[0m\u001b[0;34m'w'\u001b[0m\u001b[0;34m,\u001b[0m \u001b[0;34m'wb'\u001b[0m\u001b[0;34m)\u001b[0m\u001b[0;34m:\u001b[0m\u001b[0;34m\u001b[0m\u001b[0;34m\u001b[0m\u001b[0m\n",
            "\u001b[0;32m/usr/lib/python3.8/aifc.py\u001b[0m in \u001b[0;36m__init__\u001b[0;34m(self, f)\u001b[0m\n\u001b[1;32m    351\u001b[0m             \u001b[0;32mtry\u001b[0m\u001b[0;34m:\u001b[0m\u001b[0;34m\u001b[0m\u001b[0;34m\u001b[0m\u001b[0m\n\u001b[0;32m--> 352\u001b[0;31m                 \u001b[0mself\u001b[0m\u001b[0;34m.\u001b[0m\u001b[0minitfp\u001b[0m\u001b[0;34m(\u001b[0m\u001b[0mfile_object\u001b[0m\u001b[0;34m)\u001b[0m\u001b[0;34m\u001b[0m\u001b[0;34m\u001b[0m\u001b[0m\n\u001b[0m\u001b[1;32m    353\u001b[0m             \u001b[0;32mexcept\u001b[0m\u001b[0;34m:\u001b[0m\u001b[0;34m\u001b[0m\u001b[0;34m\u001b[0m\u001b[0m\n",
            "\u001b[0;32m/usr/lib/python3.8/aifc.py\u001b[0m in \u001b[0;36minitfp\u001b[0;34m(self, file)\u001b[0m\n\u001b[1;32m    315\u001b[0m         \u001b[0;32mif\u001b[0m \u001b[0mchunk\u001b[0m\u001b[0;34m.\u001b[0m\u001b[0mgetname\u001b[0m\u001b[0;34m(\u001b[0m\u001b[0;34m)\u001b[0m \u001b[0;34m!=\u001b[0m \u001b[0;34mb'FORM'\u001b[0m\u001b[0;34m:\u001b[0m\u001b[0;34m\u001b[0m\u001b[0;34m\u001b[0m\u001b[0m\n\u001b[0;32m--> 316\u001b[0;31m             \u001b[0;32mraise\u001b[0m \u001b[0mError\u001b[0m\u001b[0;34m(\u001b[0m\u001b[0;34m'file does not start with FORM id'\u001b[0m\u001b[0;34m)\u001b[0m\u001b[0;34m\u001b[0m\u001b[0;34m\u001b[0m\u001b[0m\n\u001b[0m\u001b[1;32m    317\u001b[0m         \u001b[0mformdata\u001b[0m \u001b[0;34m=\u001b[0m \u001b[0mchunk\u001b[0m\u001b[0;34m.\u001b[0m\u001b[0mread\u001b[0m\u001b[0;34m(\u001b[0m\u001b[0;36m4\u001b[0m\u001b[0;34m)\u001b[0m\u001b[0;34m\u001b[0m\u001b[0;34m\u001b[0m\u001b[0m\n",
            "\u001b[0;31mError\u001b[0m: file does not start with FORM id",
            "\nDuring handling of the above exception, another exception occurred:\n",
            "\u001b[0;31mEOFError\u001b[0m                                  Traceback (most recent call last)",
            "\u001b[0;32m/usr/local/lib/python3.8/dist-packages/speech_recognition/__init__.py\u001b[0m in \u001b[0;36m__enter__\u001b[0;34m(self)\u001b[0m\n\u001b[1;32m    283\u001b[0m                 \u001b[0;32mtry\u001b[0m\u001b[0;34m:\u001b[0m\u001b[0;34m\u001b[0m\u001b[0;34m\u001b[0m\u001b[0m\n\u001b[0;32m--> 284\u001b[0;31m                     \u001b[0mself\u001b[0m\u001b[0;34m.\u001b[0m\u001b[0maudio_reader\u001b[0m \u001b[0;34m=\u001b[0m \u001b[0maifc\u001b[0m\u001b[0;34m.\u001b[0m\u001b[0mopen\u001b[0m\u001b[0;34m(\u001b[0m\u001b[0maiff_file\u001b[0m\u001b[0;34m,\u001b[0m \u001b[0;34m\"rb\"\u001b[0m\u001b[0;34m)\u001b[0m\u001b[0;34m\u001b[0m\u001b[0;34m\u001b[0m\u001b[0m\n\u001b[0m\u001b[1;32m    285\u001b[0m                 \u001b[0;32mexcept\u001b[0m \u001b[0;34m(\u001b[0m\u001b[0maifc\u001b[0m\u001b[0;34m.\u001b[0m\u001b[0mError\u001b[0m\u001b[0;34m,\u001b[0m \u001b[0mEOFError\u001b[0m\u001b[0;34m)\u001b[0m\u001b[0;34m:\u001b[0m\u001b[0;34m\u001b[0m\u001b[0;34m\u001b[0m\u001b[0m\n",
            "\u001b[0;32m/usr/lib/python3.8/aifc.py\u001b[0m in \u001b[0;36mopen\u001b[0;34m(f, mode)\u001b[0m\n\u001b[1;32m    916\u001b[0m     \u001b[0;32mif\u001b[0m \u001b[0mmode\u001b[0m \u001b[0;32min\u001b[0m \u001b[0;34m(\u001b[0m\u001b[0;34m'r'\u001b[0m\u001b[0;34m,\u001b[0m \u001b[0;34m'rb'\u001b[0m\u001b[0;34m)\u001b[0m\u001b[0;34m:\u001b[0m\u001b[0;34m\u001b[0m\u001b[0;34m\u001b[0m\u001b[0m\n\u001b[0;32m--> 917\u001b[0;31m         \u001b[0;32mreturn\u001b[0m \u001b[0mAifc_read\u001b[0m\u001b[0;34m(\u001b[0m\u001b[0mf\u001b[0m\u001b[0;34m)\u001b[0m\u001b[0;34m\u001b[0m\u001b[0;34m\u001b[0m\u001b[0m\n\u001b[0m\u001b[1;32m    918\u001b[0m     \u001b[0;32melif\u001b[0m \u001b[0mmode\u001b[0m \u001b[0;32min\u001b[0m \u001b[0;34m(\u001b[0m\u001b[0;34m'w'\u001b[0m\u001b[0;34m,\u001b[0m \u001b[0;34m'wb'\u001b[0m\u001b[0;34m)\u001b[0m\u001b[0;34m:\u001b[0m\u001b[0;34m\u001b[0m\u001b[0;34m\u001b[0m\u001b[0m\n",
            "\u001b[0;32m/usr/lib/python3.8/aifc.py\u001b[0m in \u001b[0;36m__init__\u001b[0;34m(self, f)\u001b[0m\n\u001b[1;32m    357\u001b[0m             \u001b[0;31m# assume it is an open file object already\u001b[0m\u001b[0;34m\u001b[0m\u001b[0;34m\u001b[0m\u001b[0;34m\u001b[0m\u001b[0m\n\u001b[0;32m--> 358\u001b[0;31m             \u001b[0mself\u001b[0m\u001b[0;34m.\u001b[0m\u001b[0minitfp\u001b[0m\u001b[0;34m(\u001b[0m\u001b[0mf\u001b[0m\u001b[0;34m)\u001b[0m\u001b[0;34m\u001b[0m\u001b[0;34m\u001b[0m\u001b[0m\n\u001b[0m\u001b[1;32m    359\u001b[0m \u001b[0;34m\u001b[0m\u001b[0m\n",
            "\u001b[0;32m/usr/lib/python3.8/aifc.py\u001b[0m in \u001b[0;36minitfp\u001b[0;34m(self, file)\u001b[0m\n\u001b[1;32m    313\u001b[0m         \u001b[0mself\u001b[0m\u001b[0;34m.\u001b[0m\u001b[0m_file\u001b[0m \u001b[0;34m=\u001b[0m \u001b[0mfile\u001b[0m\u001b[0;34m\u001b[0m\u001b[0;34m\u001b[0m\u001b[0m\n\u001b[0;32m--> 314\u001b[0;31m         \u001b[0mchunk\u001b[0m \u001b[0;34m=\u001b[0m \u001b[0mChunk\u001b[0m\u001b[0;34m(\u001b[0m\u001b[0mfile\u001b[0m\u001b[0;34m)\u001b[0m\u001b[0;34m\u001b[0m\u001b[0;34m\u001b[0m\u001b[0m\n\u001b[0m\u001b[1;32m    315\u001b[0m         \u001b[0;32mif\u001b[0m \u001b[0mchunk\u001b[0m\u001b[0;34m.\u001b[0m\u001b[0mgetname\u001b[0m\u001b[0;34m(\u001b[0m\u001b[0;34m)\u001b[0m \u001b[0;34m!=\u001b[0m \u001b[0;34mb'FORM'\u001b[0m\u001b[0;34m:\u001b[0m\u001b[0;34m\u001b[0m\u001b[0;34m\u001b[0m\u001b[0m\n",
            "\u001b[0;32m/usr/lib/python3.8/chunk.py\u001b[0m in \u001b[0;36m__init__\u001b[0;34m(self, file, align, bigendian, inclheader)\u001b[0m\n\u001b[1;32m     62\u001b[0m         \u001b[0;32mif\u001b[0m \u001b[0mlen\u001b[0m\u001b[0;34m(\u001b[0m\u001b[0mself\u001b[0m\u001b[0;34m.\u001b[0m\u001b[0mchunkname\u001b[0m\u001b[0;34m)\u001b[0m \u001b[0;34m<\u001b[0m \u001b[0;36m4\u001b[0m\u001b[0;34m:\u001b[0m\u001b[0;34m\u001b[0m\u001b[0;34m\u001b[0m\u001b[0m\n\u001b[0;32m---> 63\u001b[0;31m             \u001b[0;32mraise\u001b[0m \u001b[0mEOFError\u001b[0m\u001b[0;34m\u001b[0m\u001b[0;34m\u001b[0m\u001b[0m\n\u001b[0m\u001b[1;32m     64\u001b[0m         \u001b[0;32mtry\u001b[0m\u001b[0;34m:\u001b[0m\u001b[0;34m\u001b[0m\u001b[0;34m\u001b[0m\u001b[0m\n",
            "\u001b[0;31mEOFError\u001b[0m: ",
            "\nDuring handling of the above exception, another exception occurred:\n",
            "\u001b[0;31mValueError\u001b[0m                                Traceback (most recent call last)",
            "\u001b[0;32m<ipython-input-12-70bbeb62d94c>\u001b[0m in \u001b[0;36m<module>\u001b[0;34m\u001b[0m\n\u001b[1;32m      1\u001b[0m \u001b[0mteste\u001b[0m \u001b[0;34m=\u001b[0m \u001b[0msr\u001b[0m\u001b[0;34m.\u001b[0m\u001b[0mAudioFile\u001b[0m\u001b[0;34m(\u001b[0m\u001b[0;34m'/content/audio.mp3'\u001b[0m\u001b[0;34m)\u001b[0m\u001b[0;34m\u001b[0m\u001b[0;34m\u001b[0m\u001b[0m\n\u001b[0;32m----> 2\u001b[0;31m \u001b[0;32mwith\u001b[0m \u001b[0mteste\u001b[0m \u001b[0;32mas\u001b[0m \u001b[0msource\u001b[0m\u001b[0;34m:\u001b[0m\u001b[0;34m\u001b[0m\u001b[0;34m\u001b[0m\u001b[0m\n\u001b[0m\u001b[1;32m      3\u001b[0m   \u001b[0maudio\u001b[0m \u001b[0;34m=\u001b[0m \u001b[0mr\u001b[0m\u001b[0;34m.\u001b[0m\u001b[0mrecord\u001b[0m\u001b[0;34m(\u001b[0m\u001b[0msource\u001b[0m\u001b[0;34m)\u001b[0m\u001b[0;34m\u001b[0m\u001b[0;34m\u001b[0m\u001b[0m\n",
            "\u001b[0;32m/usr/local/lib/python3.8/dist-packages/speech_recognition/__init__.py\u001b[0m in \u001b[0;36m__enter__\u001b[0;34m(self)\u001b[0m\n\u001b[1;32m    284\u001b[0m                     \u001b[0mself\u001b[0m\u001b[0;34m.\u001b[0m\u001b[0maudio_reader\u001b[0m \u001b[0;34m=\u001b[0m \u001b[0maifc\u001b[0m\u001b[0;34m.\u001b[0m\u001b[0mopen\u001b[0m\u001b[0;34m(\u001b[0m\u001b[0maiff_file\u001b[0m\u001b[0;34m,\u001b[0m \u001b[0;34m\"rb\"\u001b[0m\u001b[0;34m)\u001b[0m\u001b[0;34m\u001b[0m\u001b[0;34m\u001b[0m\u001b[0m\n\u001b[1;32m    285\u001b[0m                 \u001b[0;32mexcept\u001b[0m \u001b[0;34m(\u001b[0m\u001b[0maifc\u001b[0m\u001b[0;34m.\u001b[0m\u001b[0mError\u001b[0m\u001b[0;34m,\u001b[0m \u001b[0mEOFError\u001b[0m\u001b[0;34m)\u001b[0m\u001b[0;34m:\u001b[0m\u001b[0;34m\u001b[0m\u001b[0;34m\u001b[0m\u001b[0m\n\u001b[0;32m--> 286\u001b[0;31m                     \u001b[0;32mraise\u001b[0m \u001b[0mValueError\u001b[0m\u001b[0;34m(\u001b[0m\u001b[0;34m\"Audio file could not be read as PCM WAV, AIFF/AIFF-C, or Native FLAC; check if file is corrupted or in another format\"\u001b[0m\u001b[0;34m)\u001b[0m\u001b[0;34m\u001b[0m\u001b[0;34m\u001b[0m\u001b[0m\n\u001b[0m\u001b[1;32m    287\u001b[0m                 \u001b[0mself\u001b[0m\u001b[0;34m.\u001b[0m\u001b[0mlittle_endian\u001b[0m \u001b[0;34m=\u001b[0m \u001b[0;32mFalse\u001b[0m  \u001b[0;31m# AIFF is a big-endian format\u001b[0m\u001b[0;34m\u001b[0m\u001b[0;34m\u001b[0m\u001b[0m\n\u001b[1;32m    288\u001b[0m         \u001b[0;32massert\u001b[0m \u001b[0;36m1\u001b[0m \u001b[0;34m<=\u001b[0m \u001b[0mself\u001b[0m\u001b[0;34m.\u001b[0m\u001b[0maudio_reader\u001b[0m\u001b[0;34m.\u001b[0m\u001b[0mgetnchannels\u001b[0m\u001b[0;34m(\u001b[0m\u001b[0;34m)\u001b[0m \u001b[0;34m<=\u001b[0m \u001b[0;36m2\u001b[0m\u001b[0;34m,\u001b[0m \u001b[0;34m\"Audio must be mono or stereo\"\u001b[0m\u001b[0;34m\u001b[0m\u001b[0;34m\u001b[0m\u001b[0m\n",
            "\u001b[0;31mValueError\u001b[0m: Audio file could not be read as PCM WAV, AIFF/AIFF-C, or Native FLAC; check if file is corrupted or in another format"
          ]
        }
      ]
    },
    {
      "cell_type": "code",
      "source": [
        "#get mic audio\n",
        "# def get_audio():\n",
        "    \n",
        "#     with teste as source:\n",
        "#         r.pause_threshold = 1\n",
        "#         # wait for a second to let the recognizer adjust the\n",
        "#         # energy threshold based on the surrounding noise level\n",
        "#         r.adjust_for_ambient_noise(source, duration=1)\n",
        "#         audio = r.listen(source)\n",
        "#         said = \"\"\n",
        "#         try:\n",
        "#             said = r.recognize_google(audio)\n",
        "#             print(said)\n",
        "#         except sr.UnknownValueError:\n",
        "#             speak(\"Sorry, I did not get that.\")\n",
        "#         except sr.RequestError:\n",
        "#             speak(\"Sorry, the service is not available\")\n",
        "#     return said.lower()\n",
        "\n",
        "#speak converted audio to text\n",
        "def speak(text):\n",
        "    tts = gTTS(text=text, lang='en')\n",
        "    filename = \"voice.mp3\"\n",
        "    try:\n",
        "        os.remove(filename)\n",
        "    except OSError:\n",
        "        pass\n",
        "    tts.save(filename)\n",
        "    playsound.playsound(filename)\n",
        "\n",
        "#function to respond to commands\n",
        "def respond(text):\n",
        "    print(\"Text from get audio \" + text)\n",
        "    if 'youtube' in text:\n",
        "        speak(\"What do you want to search for?\")\n",
        "        keyword = get_audio()\n",
        "        if keyword!= '':\n",
        "            url = f\"https://www.youtube.com/results?search_query={keyword}\"\n",
        "            webbrowser.get().open(url)\n",
        "            speak(f\"Here is what I have found for {keyword} on youtube\")\n",
        "    elif 'search' in text:\n",
        "        speak(\"What do you want to search for?\")\n",
        "        query = get_audio()\n",
        "        if query !='':\n",
        "            result = wikipedia.summary(query, sentences=3)\n",
        "            speak(\"According to wikipedia\")\n",
        "            print(result)\n",
        "            speak(result)\n",
        "    elif 'joke' in text:\n",
        "        speak(pyjokes.get_joke())\n",
        "    elif 'empty recycle bin' in text:\n",
        "        winshell.recycle_bin().empty(confirm=False, show_progress=False, sound=True)\n",
        "        speak(\"Recycle bin emptied\")\n",
        "    elif 'what time' in text:\n",
        "        strTime = datetime.today().strftime(\"%H:%M %p\")\n",
        "        print(strTime)\n",
        "        speak(strTime)\n",
        "    elif 'play music' in text or 'play song' in text:\n",
        "        speak(\"Now playing...\")\n",
        "        music_dir = \"C:\\\\Users\\\\UserName\\\\Downloads\\\\Music\\\\\" #add your music directory here..\n",
        "        songs = os.listdir(music_dir)\n",
        "        #counter = 0\n",
        "        print(songs)\n",
        "        playmusic(music_dir + \"\\\\\" + songs[0])\n",
        "    elif 'stop music' in text:\n",
        "        speak(\"Stopping playback.\")\n",
        "        stopmusic()\n",
        "    elif 'exit' in text:\n",
        "        speak(\"Goodbye, till next time\")\n",
        "        exit()\n",
        "#play music\n",
        "def playmusic(song):\n",
        "    mixer.init()\n",
        "    mixer.music.load(song)\n",
        "    mixer.music.play()\n",
        "#stop music\n",
        "def stopmusic():\n",
        "    mixer.music.stop()\n",
        "\n",
        "#let's try it\n",
        "#text = get_audio()\n",
        "#speak(text)\n",
        "while True:\n",
        "    print(\"I am listening...\")\n",
        "    text = get_audio()\n",
        "    respond(text)"
      ],
      "metadata": {
        "colab": {
          "base_uri": "https://localhost:8080/",
          "height": 391
        },
        "id": "NJOunLzcBC2W",
        "outputId": "0e2a1e69-a36e-43bc-8f1c-eab535252002"
      },
      "execution_count": null,
      "outputs": [
        {
          "output_type": "stream",
          "name": "stdout",
          "text": [
            "I am listening...\n",
            "Speak Now...\n"
          ]
        },
        {
          "output_type": "display_data",
          "data": {
            "text/plain": [
              "<IPython.core.display.Javascript object>"
            ],
            "application/javascript": [
              "\n",
              "const sleep  = time => new Promise(resolve => setTimeout(resolve, time))\n",
              "const b2text = blob => new Promise(resolve => {\n",
              "  const reader = new FileReader()\n",
              "  reader.onloadend = e => resolve(e.srcElement.result)\n",
              "  reader.readAsDataURL(blob)\n",
              "})\n",
              "var record = time => new Promise(async resolve => {\n",
              "  stream = await navigator.mediaDevices.getUserMedia({ audio: true })\n",
              "  recorder = new MediaRecorder(stream)\n",
              "  chunks = []\n",
              "  recorder.ondataavailable = e => chunks.push(e.data)\n",
              "  recorder.start()\n",
              "  await sleep(time)\n",
              "  recorder.onstop = async ()=>{\n",
              "    blob = new Blob(chunks)\n",
              "    text = await b2text(blob)\n",
              "    resolve(text)\n",
              "  }\n",
              "  recorder.stop()\n",
              "})\n"
            ]
          },
          "metadata": {}
        },
        {
          "output_type": "stream",
          "name": "stdout",
          "text": [
            "Done Recording !\n"
          ]
        },
        {
          "output_type": "error",
          "ename": "AttributeError",
          "evalue": "ignored",
          "traceback": [
            "\u001b[0;31m---------------------------------------------------------------------------\u001b[0m",
            "\u001b[0;31mAttributeError\u001b[0m                            Traceback (most recent call last)",
            "\u001b[0;32m<ipython-input-33-a1f28a916cbf>\u001b[0m in \u001b[0;36m<module>\u001b[0;34m\u001b[0m\n\u001b[1;32m     83\u001b[0m \u001b[0;32mwhile\u001b[0m \u001b[0;32mTrue\u001b[0m\u001b[0;34m:\u001b[0m\u001b[0;34m\u001b[0m\u001b[0;34m\u001b[0m\u001b[0m\n\u001b[1;32m     84\u001b[0m     \u001b[0mprint\u001b[0m\u001b[0;34m(\u001b[0m\u001b[0;34m\"I am listening...\"\u001b[0m\u001b[0;34m)\u001b[0m\u001b[0;34m\u001b[0m\u001b[0;34m\u001b[0m\u001b[0m\n\u001b[0;32m---> 85\u001b[0;31m     \u001b[0mtext\u001b[0m \u001b[0;34m=\u001b[0m \u001b[0mget_audio\u001b[0m\u001b[0;34m(\u001b[0m\u001b[0;34m)\u001b[0m\u001b[0;34m\u001b[0m\u001b[0;34m\u001b[0m\u001b[0m\n\u001b[0m\u001b[1;32m     86\u001b[0m     \u001b[0mrespond\u001b[0m\u001b[0;34m(\u001b[0m\u001b[0mtext\u001b[0m\u001b[0;34m)\u001b[0m\u001b[0;34m\u001b[0m\u001b[0;34m\u001b[0m\u001b[0m\n",
            "\u001b[0;32m<ipython-input-33-a1f28a916cbf>\u001b[0m in \u001b[0;36mget_audio\u001b[0;34m()\u001b[0m\n\u001b[1;32m      2\u001b[0m \u001b[0;32mdef\u001b[0m \u001b[0mget_audio\u001b[0m\u001b[0;34m(\u001b[0m\u001b[0;34m)\u001b[0m\u001b[0;34m:\u001b[0m\u001b[0;34m\u001b[0m\u001b[0;34m\u001b[0m\u001b[0m\n\u001b[1;32m      3\u001b[0m     \u001b[0mr\u001b[0m \u001b[0;34m=\u001b[0m \u001b[0msr\u001b[0m\u001b[0;34m.\u001b[0m\u001b[0mRecognizer\u001b[0m\u001b[0;34m(\u001b[0m\u001b[0;34m)\u001b[0m\u001b[0;34m\u001b[0m\u001b[0;34m\u001b[0m\u001b[0m\n\u001b[0;32m----> 4\u001b[0;31m     \u001b[0;32mwith\u001b[0m \u001b[0mrecord\u001b[0m\u001b[0;34m(\u001b[0m\u001b[0;34m)\u001b[0m \u001b[0;32mas\u001b[0m \u001b[0msource\u001b[0m\u001b[0;34m:\u001b[0m\u001b[0;34m\u001b[0m\u001b[0;34m\u001b[0m\u001b[0m\n\u001b[0m\u001b[1;32m      5\u001b[0m         \u001b[0mr\u001b[0m\u001b[0;34m.\u001b[0m\u001b[0mpause_threshold\u001b[0m \u001b[0;34m=\u001b[0m \u001b[0;36m1\u001b[0m\u001b[0;34m\u001b[0m\u001b[0;34m\u001b[0m\u001b[0m\n\u001b[1;32m      6\u001b[0m         \u001b[0;31m# wait for a second to let the recognizer adjust the\u001b[0m\u001b[0;34m\u001b[0m\u001b[0;34m\u001b[0m\u001b[0;34m\u001b[0m\u001b[0m\n",
            "\u001b[0;31mAttributeError\u001b[0m: __enter__"
          ]
        }
      ]
    }
  ]
}