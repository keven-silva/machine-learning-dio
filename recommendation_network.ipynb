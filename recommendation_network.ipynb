{
  "nbformat": 4,
  "nbformat_minor": 0,
  "metadata": {
    "colab": {
      "provenance": [],
      "authorship_tag": "ABX9TyMUB4GJS7Og4PorIA074rwj",
      "include_colab_link": true
    },
    "kernelspec": {
      "name": "python3",
      "display_name": "Python 3"
    },
    "language_info": {
      "name": "python"
    }
  },
  "cells": [
    {
      "cell_type": "markdown",
      "metadata": {
        "id": "view-in-github",
        "colab_type": "text"
      },
      "source": [
        "<a href=\"https://colab.research.google.com/github/keven-silva/machine-learning-dio/blob/master/recommendation_network.ipynb\" target=\"_parent\"><img src=\"https://colab.research.google.com/assets/colab-badge.svg\" alt=\"Open In Colab\"/></a>"
      ]
    },
    {
      "cell_type": "markdown",
      "source": [
        "## Connect your drive"
      ],
      "metadata": {
        "id": "0TAC8a84dtch"
      }
    },
    {
      "cell_type": "code",
      "execution_count": 1,
      "metadata": {
        "colab": {
          "base_uri": "https://localhost:8080/"
        },
        "id": "7IUTG14EZ7ke",
        "outputId": "16b880b4-7440-4efe-e9c5-f6e05540a148"
      },
      "outputs": [
        {
          "output_type": "stream",
          "name": "stdout",
          "text": [
            "/\n",
            "Mounted at /content/gdrive\n"
          ]
        }
      ],
      "source": [
        "%cd ..\n",
        "\n",
        "from google.colab import drive\n",
        "drive.mount('/content/gdrive')"
      ]
    },
    {
      "cell_type": "code",
      "source": [
        "!/usr/local/cuda/bin/nvcc --version"
      ],
      "metadata": {
        "colab": {
          "base_uri": "https://localhost:8080/"
        },
        "id": "CpowBsUraLH2",
        "outputId": "ed150fe9-aad4-45e1-8115-10f983f39b97"
      },
      "execution_count": 2,
      "outputs": [
        {
          "output_type": "stream",
          "name": "stdout",
          "text": [
            "nvcc: NVIDIA (R) Cuda compiler driver\n",
            "Copyright (c) 2005-2021 NVIDIA Corporation\n",
            "Built on Sun_Feb_14_21:12:58_PST_2021\n",
            "Cuda compilation tools, release 11.2, V11.2.152\n",
            "Build cuda_11.2.r11.2/compiler.29618528_0\n"
          ]
        }
      ]
    },
    {
      "cell_type": "code",
      "source": [
        "!nvidia-smi"
      ],
      "metadata": {
        "id": "WBc6w-jJIjXk",
        "colab": {
          "base_uri": "https://localhost:8080/"
        },
        "outputId": "2709153c-4ba7-45ec-a9af-8f9bf8b8fefb"
      },
      "execution_count": 3,
      "outputs": [
        {
          "output_type": "stream",
          "name": "stdout",
          "text": [
            "NVIDIA-SMI has failed because it couldn't communicate with the NVIDIA driver. Make sure that the latest NVIDIA driver is installed and running.\n",
            "\n"
          ]
        }
      ]
    },
    {
      "cell_type": "code",
      "source": [
        "!ln -s /content/gdrive/My\\ Drive/ /mydrive"
      ],
      "metadata": {
        "id": "xkAWpXaJ8ub1"
      },
      "execution_count": 4,
      "outputs": []
    },
    {
      "cell_type": "code",
      "source": [
        "!mkdir network"
      ],
      "metadata": {
        "id": "iEfZtP9yciyG"
      },
      "execution_count": 5,
      "outputs": []
    },
    {
      "cell_type": "code",
      "source": [
        "%cd /mydrive/network"
      ],
      "metadata": {
        "colab": {
          "base_uri": "https://localhost:8080/"
        },
        "id": "DK8zPlxHczAG",
        "outputId": "a7e8d93f-69dd-431f-efd7-bcb74e87c609"
      },
      "execution_count": 7,
      "outputs": [
        {
          "output_type": "stream",
          "name": "stdout",
          "text": [
            "/content/gdrive/My Drive/network\n"
          ]
        }
      ]
    },
    {
      "cell_type": "markdown",
      "source": [
        "## Fiftyone"
      ],
      "metadata": {
        "id": "N1YBkxmfd_LK"
      }
    },
    {
      "cell_type": "code",
      "source": [
        "!pip install openimages gwpy &> /dev/null"
      ],
      "metadata": {
        "id": "Q4rkKL08h3MH"
      },
      "execution_count": 1,
      "outputs": []
    },
    {
      "cell_type": "code",
      "source": [
        "!pwd"
      ],
      "metadata": {
        "colab": {
          "base_uri": "https://localhost:8080/"
        },
        "id": "Ultqw2lsiHKR",
        "outputId": "87051d05-9eb1-4e0b-8b47-cd1e25a6d82d"
      },
      "execution_count": 2,
      "outputs": [
        {
          "output_type": "stream",
          "name": "stdout",
          "text": [
            "/content\n"
          ]
        }
      ]
    },
    {
      "cell_type": "code",
      "source": [
        "!oi_download_dataset --csv_dir /content/dataset_csv --base_dir /content/dataset --labels Surfboard Shirt Watch Bicycle --format darknet --limit 10"
      ],
      "metadata": {
        "colab": {
          "base_uri": "https://localhost:8080/"
        },
        "id": "rmfya_NZh_uQ",
        "outputId": "2a0ad611-3b7e-4b22-fd2f-34f1df019332"
      },
      "execution_count": 13,
      "outputs": [
        {
          "output_type": "stream",
          "name": "stdout",
          "text": [
            "2023-01-09  17:51:55 INFO Downloading 10 train images for class 'surfboard'\n",
            "100% 10/10 [00:01<00:00,  9.89it/s]\n",
            "2023-01-09  17:51:56 INFO Creating 10 train annotations (darknet) for class 'surfboard'\n",
            "100% 10/10 [00:00<00:00, 359.98it/s]\n",
            "2023-01-09  17:51:56 INFO Downloading 10 train images for class 'shirt'\n",
            "100% 10/10 [00:00<00:00, 12.05it/s]\n",
            "2023-01-09  17:51:57 INFO Creating 10 train annotations (darknet) for class 'shirt'\n",
            "100% 10/10 [00:00<00:00, 56.63it/s]\n",
            "2023-01-09  17:51:57 INFO Downloading 10 train images for class 'watch'\n",
            "100% 10/10 [00:00<00:00, 11.81it/s]\n",
            "2023-01-09  17:51:58 INFO Creating 10 train annotations (darknet) for class 'watch'\n",
            "100% 10/10 [00:00<00:00, 366.64it/s]\n",
            "2023-01-09  17:51:58 INFO Downloading 10 train images for class 'bicycle'\n",
            "100% 10/10 [00:00<00:00, 10.78it/s]\n",
            "2023-01-09  17:51:59 INFO Creating 10 train annotations (darknet) for class 'bicycle'\n",
            "100% 10/10 [00:00<00:00, 376.74it/s]\n"
          ]
        }
      ]
    }
  ]
}