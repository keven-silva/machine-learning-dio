{
 "cells": [
  {
   "attachments": {},
   "cell_type": "markdown",
   "metadata": {},
   "source": [
    "## Imports"
   ]
  },
  {
   "cell_type": "code",
   "execution_count": 19,
   "metadata": {},
   "outputs": [],
   "source": [
    "from PIL import Image"
   ]
  },
  {
   "cell_type": "code",
   "execution_count": 20,
   "metadata": {},
   "outputs": [
    {
     "name": "stderr",
     "output_type": "stream",
     "text": [
      "502.27s - pydevd: Sending message related to process being replaced timed-out after 5 seconds\n"
     ]
    },
    {
     "name": "stdout",
     "output_type": "stream",
     "text": [
      "--2022-12-26 14:41:35--  https://pbs.twimg.com/media/DKyDxBeV4AAcHE1.jpg\n",
      "Resolvendo pbs.twimg.com (pbs.twimg.com)... 2a04:4e42:2a::159, 199.232.112.159\n",
      "Conectando-se a pbs.twimg.com (pbs.twimg.com)|2a04:4e42:2a::159|:443... conectado.\n",
      "A requisição HTTP foi enviada, aguardando resposta... 200 OK\n",
      "Tamanho: 47086 (46K) [image/jpeg]\n",
      "Salvando em: “DKyDxBeV4AAcHE1.jpg”\n",
      "\n",
      "DKyDxBeV4AAcHE1.jpg 100%[===================>]  45,98K  --.-KB/s    em 0,06s   \n",
      "\n",
      "2022-12-26 14:41:35 (754 KB/s) - “DKyDxBeV4AAcHE1.jpg” salvo [47086/47086]\n",
      "\n"
     ]
    },
    {
     "name": "stderr",
     "output_type": "stream",
     "text": [
      "507.97s - pydevd: Sending message related to process being replaced timed-out after 5 seconds\n"
     ]
    }
   ],
   "source": [
    "!wget https://pbs.twimg.com/media/DKyDxBeV4AAcHE1.jpg\n",
    "!mv DKyDxBeV4AAcHE1.jpg lena.jpg"
   ]
  },
  {
   "cell_type": "code",
   "execution_count": 21,
   "metadata": {},
   "outputs": [],
   "source": [
    "def gray_image(image: Image.Image):\n",
    "    w, h = image.size\n",
    "\n",
    "    for x in range(w):\n",
    "        for y in range(h):\n",
    "            plx = image.getpixel((x, y))\n",
    "            lum = int(0.3 * plx[0] + 0.59 * plx[1] + 0.11 * plx[2])\n",
    "            image.putpixel((x, y), (lum, lum, lum))\n",
    "\n",
    "    return image"
   ]
  },
  {
   "cell_type": "code",
   "execution_count": 22,
   "metadata": {},
   "outputs": [],
   "source": [
    "def black_image(image: Image.Image):\n",
    "    w, h = image.size\n",
    "\n",
    "    for x in range(w):\n",
    "        for y in range(h):\n",
    "            plx = image.getpixel((x, y))\n",
    "            lum = int(0.3 * plx[0] + 0.59 * plx[1] + 0.11 * plx[2])\n",
    "\n",
    "            if not lum > 160:\n",
    "                image.putpixel((x, y), (0, 0, 0))\n",
    "            else:\n",
    "                image.putpixel((x, y), (255, 255, 255))\n",
    "\n",
    "    return image"
   ]
  },
  {
   "cell_type": "code",
   "execution_count": 23,
   "metadata": {},
   "outputs": [
    {
     "name": "stdout",
     "output_type": "stream",
     "text": [
      "None\n"
     ]
    }
   ],
   "source": [
    "lena = Image.open('./lena.jpg')\n",
    "print(lena.show())"
   ]
  },
  {
   "cell_type": "code",
   "execution_count": 24,
   "metadata": {},
   "outputs": [],
   "source": [
    "img = gray_image(lena)\n",
    "img.save(\"lena_gray.jpg\")"
   ]
  },
  {
   "cell_type": "code",
   "execution_count": 25,
   "metadata": {},
   "outputs": [],
   "source": [
    "img = black_image(lena)\n",
    "img.save(\"lena_black.jpg\")"
   ]
  },
  {
   "cell_type": "code",
   "execution_count": 26,
   "metadata": {},
   "outputs": [],
   "source": [
    "g = Image.open('./lena_gray.jpg')"
   ]
  }
 ],
 "metadata": {
  "kernelspec": {
   "display_name": "curso-ml-06mgr1Os-py3.10",
   "language": "python",
   "name": "python3"
  },
  "language_info": {
   "codemirror_mode": {
    "name": "ipython",
    "version": 3
   },
   "file_extension": ".py",
   "mimetype": "text/x-python",
   "name": "python",
   "nbconvert_exporter": "python",
   "pygments_lexer": "ipython3",
   "version": "3.10.6"
  },
  "orig_nbformat": 4,
  "vscode": {
   "interpreter": {
    "hash": "3cb9ce97817822190392dc7dd1af722bdb05a9d237f094af60e24c2549edc8b1"
   }
  }
 },
 "nbformat": 4,
 "nbformat_minor": 2
}
