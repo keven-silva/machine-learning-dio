{
 "cells": [
  {
   "attachments": {},
   "cell_type": "markdown",
   "metadata": {},
   "source": [
    "## Imports"
   ]
  },
  {
   "cell_type": "code",
   "execution_count": 1,
   "metadata": {},
   "outputs": [],
   "source": [
    "from PIL import Image"
   ]
  },
  {
   "cell_type": "code",
   "execution_count": 2,
   "metadata": {},
   "outputs": [
    {
     "name": "stdout",
     "output_type": "stream",
     "text": [
      "--2022-12-29 11:27:30--  https://pbs.twimg.com/media/DKyDxBeV4AAcHE1.jpg\n",
      "Resolvendo pbs.twimg.com (pbs.twimg.com)... 2606:2800:258:80d:3b4:1d2d:1c2:26bb, 192.16.59.1\n",
      "Conectando-se a pbs.twimg.com (pbs.twimg.com)|2606:2800:258:80d:3b4:1d2d:1c2:26bb|:443... conectado.\n",
      "A requisição HTTP foi enviada, aguardando resposta... 200 OK\n",
      "Tamanho: 47086 (46K) [image/jpeg]\n",
      "Salvando em: “DKyDxBeV4AAcHE1.jpg”\n",
      "\n",
      "DKyDxBeV4AAcHE1.jpg 100%[===================>]  45,98K  --.-KB/s    em 0,1s    \n",
      "\n",
      "2022-12-29 11:27:31 (389 KB/s) - “DKyDxBeV4AAcHE1.jpg” salvo [47086/47086]\n",
      "\n"
     ]
    }
   ],
   "source": [
    "!wget https://pbs.twimg.com/media/DKyDxBeV4AAcHE1.jpg\n",
    "!mv DKyDxBeV4AAcHE1.jpg lena.jpg"
   ]
  },
  {
   "cell_type": "code",
   "execution_count": 3,
   "metadata": {},
   "outputs": [],
   "source": [
    "def gray_image(image: Image.Image):\n",
    "    w, h = image.size\n",
    "\n",
    "    for x in range(w):\n",
    "        for y in range(h):\n",
    "            plx = image.getpixel((x, y))\n",
    "            lum = int(0.3 * plx[0] + 0.59 * plx[1] + 0.11 * plx[2])\n",
    "            image.putpixel((x, y), (lum, lum, lum))\n",
    "\n",
    "    return image"
   ]
  },
  {
   "cell_type": "code",
   "execution_count": 4,
   "metadata": {},
   "outputs": [],
   "source": [
    "def black_image(image: Image.Image):\n",
    "    w, h = image.size\n",
    "\n",
    "    for x in range(w):\n",
    "        for y in range(h):\n",
    "            plx = image.getpixel((x, y))\n",
    "            lum = int(0.3 * plx[0] + 0.59 * plx[1] + 0.11 * plx[2])\n",
    "\n",
    "            if not lum > 160:\n",
    "                image.putpixel((x, y), (0, 0, 0))\n",
    "            else:\n",
    "                image.putpixel((x, y), (255, 255, 255))\n",
    "\n",
    "    return image"
   ]
  },
  {
   "cell_type": "code",
   "execution_count": 5,
   "metadata": {},
   "outputs": [],
   "source": [
    "lena = Image.open('./lena.jpg')"
   ]
  },
  {
   "cell_type": "code",
   "execution_count": 6,
   "metadata": {},
   "outputs": [],
   "source": [
    "img = gray_image(lena)\n",
    "img.save(\"lena_gray.jpg\")"
   ]
  },
  {
   "cell_type": "code",
   "execution_count": 7,
   "metadata": {},
   "outputs": [],
   "source": [
    "img = black_image(lena)\n",
    "img.save(\"lena_black.jpg\")"
   ]
  },
  {
   "cell_type": "code",
   "execution_count": 8,
   "metadata": {},
   "outputs": [],
   "source": [
    "g = Image.open('./lena_gray.jpg')"
   ]
  }
 ],
 "metadata": {
  "kernelspec": {
   "display_name": "curso-ml-06mgr1Os-py3.10",
   "language": "python",
   "name": "python3"
  },
  "language_info": {
   "codemirror_mode": {
    "name": "ipython",
    "version": 3
   },
   "file_extension": ".py",
   "mimetype": "text/x-python",
   "name": "python",
   "nbconvert_exporter": "python",
   "pygments_lexer": "ipython3",
   "version": "3.10.6 (main, Sep  1 2022, 21:38:23) [GCC 9.4.0]"
  },
  "orig_nbformat": 4,
  "vscode": {
   "interpreter": {
    "hash": "3cb9ce97817822190392dc7dd1af722bdb05a9d237f094af60e24c2549edc8b1"
   }
  }
 },
 "nbformat": 4,
 "nbformat_minor": 2
}
